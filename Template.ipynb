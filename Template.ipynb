{
 "cells": [
  {
   "cell_type": "markdown",
   "id": "a22aa0fa-558b-4cdd-a4f9-20cba31fe338",
   "metadata": {},
   "source": [
    "# Basic OpenAI Notebook\n",
    "\n",
    "A notebook template to play around with generating LLM responses\n",
    "\n",
    "---\n",
    "\n",
    "First, some imports. The utils will help make formatting and config easier."
   ]
  },
  {
   "cell_type": "code",
   "execution_count": 1,
   "id": "3406f5b9-7b23-4a35-8a00-918c55b2042c",
   "metadata": {},
   "outputs": [],
   "source": [
    "# Basic imports\n",
    "from openai import AzureOpenAI\n",
    "\n",
    "# Some utils that make it easier\n",
    "from openai_utils import Role, Message, Messages\n",
    "import config"
   ]
  },
  {
   "cell_type": "markdown",
   "id": "00135de8-ba5f-4cf2-8f18-d69b98eda830",
   "metadata": {},
   "source": [
    "Now connect the OpenAI client. Make sure `.config.toml` has the correct credentials/"
   ]
  },
  {
   "cell_type": "code",
   "execution_count": 2,
   "id": "94c385c1-0d4b-4a0e-8037-e9b4c6bfdd3d",
   "metadata": {},
   "outputs": [],
   "source": [
    "client = AzureOpenAI(\n",
    "    azure_endpoint=config.openai.API_BASE,\n",
    "    api_key=config.openai.API_KEY,\n",
    "    api_version=config.openai.API_VERSION,\n",
    ")"
   ]
  },
  {
   "cell_type": "markdown",
   "id": "b8f6f602-e044-4764-8e65-1f856e37fcdb",
   "metadata": {},
   "source": [
    "Finally, test the completion"
   ]
  },
  {
   "cell_type": "code",
   "execution_count": 3,
   "id": "36adb9d9-b92e-4df8-8d08-790d9c468097",
   "metadata": {},
   "outputs": [
    {
     "name": "stdout",
     "output_type": "stream",
     "text": [
      "Hello! As an artificial intelligence, I don't have a personal name. I am OpenAI's language model, trained in a wide variety of conversational styles and topics. I'm here to assist you!\n"
     ]
    }
   ],
   "source": [
    "messages = Messages([\n",
    "    Message(\n",
    "        role = Role.user,\n",
    "        content = \"Hi! What's your name?\"\n",
    "    )\n",
    "])\n",
    "\n",
    "response = client.chat.completions.create(\n",
    "    model = config.openai.DEPLOYMENT_NAME,\n",
    "    messages = messages.format(),\n",
    ")\n",
    "\n",
    "print(response.choices[0].message.content)"
   ]
  },
  {
   "cell_type": "markdown",
   "id": "27ed27b2-7bab-4722-b172-6377690f0886",
   "metadata": {},
   "source": [
    "---"
   ]
  }
 ],
 "metadata": {
  "kernelspec": {
   "display_name": "Python 3 (ipykernel)",
   "language": "python",
   "name": "python3"
  },
  "language_info": {
   "codemirror_mode": {
    "name": "ipython",
    "version": 3
   },
   "file_extension": ".py",
   "mimetype": "text/x-python",
   "name": "python",
   "nbconvert_exporter": "python",
   "pygments_lexer": "ipython3",
   "version": "3.11.4"
  }
 },
 "nbformat": 4,
 "nbformat_minor": 5
}
